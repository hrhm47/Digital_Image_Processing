{
 "cells": [
  {
   "cell_type": "code",
   "execution_count": 1,
   "metadata": {},
   "outputs": [],
   "source": [
    "from __future__ import print_function, division   # Python 2/3 compatibility\n",
    "from skimage import io                            # utilities to read and write images in various formats\n",
    "import numpy as np  # array manipulation package\n",
    "import matplotlib.pylab as plt                    # plotting package\n",
    "%matplotlib inline\n",
    "plt.rcParams['figure.figsize'] = (8,8)         # set default figure size\n",
    "plt.rcParams['image.cmap'] = 'gray'               # set default colormap to gray"
   ]
  },
  {
   "cell_type": "markdown",
   "metadata": {},
   "source": [
    "# Assignment 3 : Frequency domain processing\n",
    "\n",
    "The following progamming assignment involves the task of image filtering in the frequency domain, such as, highpass, lowpass and bandpass filtering.\n",
    "\n",
    "**Please, follow carefully the submission instructions given in the end of this notebook.** You are encouraged to seek information in other places than the course book and lecture material but remember **list all your sources under references**.\n",
    "\n",
    "If you experience problems that you cannot solve using the course material or the Python documentation, or have any questions regarding the programming assignments, please do not hesitate to contact the course assistant by sending an e-mail at dip@unioulu.oulu.fi. You can also join in for the Q & A session (schedule is given on the course page in Moodle) for this assignment."
   ]
  },
  {
   "cell_type": "markdown",
   "metadata": {},
   "source": [
    "**Please, fill in your personal details below.**\n",
    "\n",
    "# Personal details:\n",
    "\n",
    "* **Name(s) and student ID(s):** \n",
    "    Haseeb Ur Rehman (2315255) and Marwa Bibi (2407704)\n",
    "* **Contact information:** \n",
    "    Haseeb.Rehman@student.oulu.fi and Marwa.Bibi@student.oulu.fi"
   ]
  },
  {
   "cell_type": "markdown",
   "metadata": {},
   "source": [
    "# 1. Image transforms : lowpass and highpass filtering in frequency domain\n",
    "\n",
    "In the following, you will first perform ideal lowpass and highpass filtering on the test image, and later, we will also consider the Gaussian lowpass and highpass filtering. First, read the part concerning image enhancement in frequency domain in the lecture notes or in the course book. Specifically, you should look at the **Chapter-4** (available as a PDF file) in the lecture notes in Moodle.\n",
    "\n",
    "Now, perform the following operations in the reserved code cells and answer to the questions written in bold into the reserved spaces.\n"
   ]
  },
  {
   "cell_type": "markdown",
   "metadata": {},
   "source": [
    "**1.1. Read and display the test image `hplptest.jpg`.**"
   ]
  },
  {
   "cell_type": "code",
   "execution_count": null,
   "metadata": {},
   "outputs": [],
   "source": [
    "# read test image\n",
    "# read test image\n",
    "image = io.imread('hplptest.jpg')\n",
    "\n",
    "# display test image\n",
    "plt.imshow(image, cmap='gray')\n",
    "plt.title('Original Image')\n",
    "plt.axis('off')\n",
    "plt.show()\n"
   ]
  },
  {
   "cell_type": "markdown",
   "metadata": {},
   "source": [
    "**1.2. Compute the Fourier transform (FT) of the test image and take a look at what the magnitude of the FT looks like.**\n",
    "\n",
    "Hint: When plotting the FTs, use logarithmic graylevel transformation to make the result more illustrative for human visual system: \n",
    "\n",
    "`>>> np.log(np.abs(image_fft)+1)`"
   ]
  },
  {
   "cell_type": "code",
   "execution_count": null,
   "metadata": {},
   "outputs": [],
   "source": [
    "from scipy import fftpack\n",
    "\n",
    "# compute the FT of the test image using 'fftpack.fft2'\n",
    "\n",
    "image_fft = fftpack.fft2(image)\n",
    "\n",
    "# translate the origin of the FT (low frequencies) to the center using 'ftpack.fftshift'\n",
    "image_fft_shifted = fftpack.fftshift(image_fft)\n",
    "\n",
    "# display the magnitude of the uncentered and centered FT using 'imshow'.\n",
    "\n",
    "plt.figure(figsize=(12, 6))\n",
    "\n",
    "plt.subplot(1, 2, 1)\n",
    "plt.imshow(np.log(np.abs(image_fft) + 1), cmap='gray')\n",
    "plt.title('Magnitude of Uncentered FT')\n",
    "plt.axis('off')\n",
    "\n",
    "plt.subplot(1, 2, 2)\n",
    "plt.imshow(np.log(np.abs(image_fft_shifted) + 1), cmap='gray')\n",
    "plt.title('Magnitude of Centered FT')\n",
    "plt.axis('off')\n",
    "\n",
    "plt.show()\n"
   ]
  },
  {
   "cell_type": "markdown",
   "metadata": {},
   "source": [
    "**The code for constructing an ideal lowpass filter is given below:**"
   ]
  },
  {
   "cell_type": "code",
   "execution_count": 4,
   "metadata": {},
   "outputs": [],
   "source": [
    "# make two frequency matrices, 'f1' and 'f2', as help variables (frequencies from -1 to 1)\n",
    "n = (500,500)\n",
    "f1 = ( np.arange(0,n[0])-np.floor(n[0]/2) ) * (2./(n[0]))\n",
    "f2 = ( np.arange(0,n[1])-np.floor(n[1]/2) ) * (2./(n[1]))\n",
    "f1, f2 = np.meshgrid(f1, f2)\n",
    "\n",
    "# make a matrix with absolute values of frequency (“sampled” frequency domain)\n",
    "D = np.sqrt(f1**2 + f2**2)\n",
    "\n",
    "# set cut-off frequency D0 to 0.2\n",
    "D0 = 0.2;\n",
    "\n",
    "# filter matrix is initialized to ones \n",
    "Hlp = np.ones(n)\n",
    "\n",
    "# set frequencies in filter mask Hlp greater than the cut-off frequency D0 to zero, other elements remain unaltered\n",
    "Hlp[D>D0] = 0.0"
   ]
  },
  {
   "cell_type": "markdown",
   "metadata": {},
   "source": [
    "**1.3. Modify the lowpass filter code and construct ideal highpass filter `Hhp` with the same cut-off frequency `D0=0.2` and display both ideal lowpass and highpass filter masks in the same figure.**"
   ]
  },
  {
   "cell_type": "code",
   "execution_count": null,
   "metadata": {
    "scrolled": true
   },
   "outputs": [],
   "source": [
    "# create ideal highpass filter mask Hhp\n",
    "\n",
    "Hhp = np.zeros(n)\n",
    "Hhp[D > D0] = 1.0\n",
    "\n",
    "# display the filters\n",
    "\n",
    "plt.figure(figsize=(12, 6))\n",
    "\n",
    "plt.subplot(1, 2, 1)\n",
    "plt.imshow(Hlp, cmap='gray')\n",
    "plt.title('Ideal Lowpass Filter Mask')\n",
    "plt.axis('off')\n",
    "\n",
    "plt.subplot(1, 2, 2)\n",
    "plt.imshow(Hhp, cmap='gray')\n",
    "plt.title('Ideal Highpass Filter Mask')\n",
    "plt.axis('off')\n",
    "\n",
    "plt.show()"
   ]
  },
  {
   "cell_type": "markdown",
   "metadata": {},
   "source": [
    "**1.4. Perform ideal lowpass and highpass filtering in the frequency domain by multiplying the centralized FT of the original image with the `Hlp` and `Hhp` filter masks (element-per-element matrix multiplication) and display the two resulting FTs in the same figure.**"
   ]
  },
  {
   "cell_type": "code",
   "execution_count": null,
   "metadata": {},
   "outputs": [],
   "source": [
    "# apply ideal lowpass and highpass filtering to the test image, i.e. multiply element-wise the fft of the image with the filter masks\n",
    "\n",
    "filtered_lowpass = image_fft_shifted * Hlp\n",
    "filtered_highpass = image_fft_shifted * Hhp\n",
    "\n",
    "\n",
    "# display the magnitude of the resulting FTs\n",
    "\n",
    "\n",
    "plt.figure(figsize=(12, 6))\n",
    "\n",
    "plt.subplot(1, 2, 1)\n",
    "plt.imshow(np.log(np.abs(filtered_lowpass) + 1), cmap='gray')\n",
    "plt.title('Magnitude of Lowpass Filtered FT')\n",
    "plt.axis('off')\n",
    "\n",
    "plt.subplot(1, 2, 2)\n",
    "plt.imshow(np.log(np.abs(filtered_highpass) + 1), cmap='gray')\n",
    "plt.title('Magnitude of Highpass Filtered FT')\n",
    "plt.axis('off')\n",
    "\n",
    "plt.show()"
   ]
  },
  {
   "cell_type": "markdown",
   "metadata": {},
   "source": [
    "**1.5. Reconstruct the filtered images with `fftpack.ifft2()` and `fftpack.ifftshift()` in reverse order and display the two filtered images using `imshow()` in the same figure.** \n",
    "\n",
    "Hint: Due to round-off errors, you have to take the real part of the result of inverse FT before displaying it with `imshow()`. Please note also that the resulting images values beyond the original `uint8` image `[0,255]`, so you need to clip these values using `np.clip()`."
   ]
  },
  {
   "cell_type": "code",
   "execution_count": null,
   "metadata": {},
   "outputs": [],
   "source": [
    "# reconstruct the filtered images\n",
    "filtered_lowpass_shifted_back = fftpack.ifftshift(filtered_lowpass)\n",
    "filtered_highpass_shifted_back = fftpack.ifftshift(filtered_highpass)\n",
    "\n",
    "\n",
    "# take the 'real' part of the resulting images due to possible round-off errors\n",
    "\n",
    "filtered_lowpass_image = np.real(fftpack.ifft2(filtered_lowpass_shifted_back))\n",
    "filtered_highpass_image = np.real(fftpack.ifft2(filtered_highpass_shifted_back))\n",
    "\n",
    "\n",
    "# clip values beyond the uint8 range [0,255] \n",
    "\n",
    "\n",
    "filtered_lowpass_image = np.clip(filtered_lowpass_image, 0, 255).astype(np.uint8)\n",
    "filtered_highpass_image = np.clip(filtered_highpass_image, 0, 255).astype(np.uint8)\n",
    "\n",
    "# display the original image and its lowpass and highpass filtered images in the same figure\n",
    "\n",
    "plt.figure(figsize=(12, 6))\n",
    "\n",
    "plt.subplot(1, 3, 1)\n",
    "plt.imshow(image, cmap='gray')\n",
    "plt.title('Original Image')\n",
    "plt.axis('off')\n",
    "\n",
    "plt.subplot(1, 3, 2)\n",
    "plt.imshow(filtered_lowpass_image, cmap='gray')\n",
    "plt.title('Lowpass Filtered Image')\n",
    "plt.axis('off')\n",
    "\n",
    "plt.subplot(1, 3, 3)\n",
    "plt.imshow(filtered_highpass_image, cmap='gray')\n",
    "plt.title('Highpass Filtered Image')\n",
    "plt.axis('off')\n",
    "\n",
    "plt.show()"
   ]
  },
  {
   "cell_type": "markdown",
   "metadata": {},
   "source": [
    "When performing ideal lowpass and highpass filtering, unwanted artefacts appear to the filtered image. **What is this phenomenon called and why does it occur?**\n",
    "\n",
    "`The unwanted artefacts are called ringing effects . They occur because the ideal lowpass and highpass filters have sharp transitions in the frequency domain, which introduce oscillations in the spatial domain due to the Gibbs phenomenon.`"
   ]
  },
  {
   "cell_type": "markdown",
   "metadata": {},
   "source": [
    "**1.6. Now, construct Gaussian lowpass and highpass filters with cut-off frequency `D0=0.2` and display them in the same figure.**\n",
    "\n",
    "Hint: All you need to do is to modify the filter matrix `Hlp` line in the example code snippet accordingly to form `Hlpg` and `Hhpg` (see the lecture notes, **chapter04.pdf**)."
   ]
  },
  {
   "cell_type": "code",
   "execution_count": null,
   "metadata": {},
   "outputs": [],
   "source": [
    "# Construct a Gaussian lowpas and a highpass filter\n",
    "Hlpg = np.exp(-(D**2) / (2 * (D0**2)))\n",
    "\n",
    "Hhpg = 1 - Hlpg\n",
    "# display the filter masks\n",
    "\n",
    "plt.figure(figsize=(12, 6))\n",
    "\n",
    "plt.subplot(1, 2, 1)\n",
    "plt.imshow(Hlpg, cmap='gray')\n",
    "plt.title('Gaussian Lowpass Filter Mask')\n",
    "plt.axis('off')\n",
    "\n",
    "plt.subplot(1, 2, 2)\n",
    "plt.imshow(Hhpg, cmap='gray')\n",
    "plt.title('Gaussian Highpass Filter Mask')\n",
    "plt.axis('off')\n",
    "\n",
    "plt.show()"
   ]
  },
  {
   "cell_type": "markdown",
   "metadata": {},
   "source": [
    "**1.7. Perform Gaussian lowpass and highpass filtering to the original test image and display the magnitude of the resulting FTs in the same figure.**"
   ]
  },
  {
   "cell_type": "code",
   "execution_count": null,
   "metadata": {},
   "outputs": [],
   "source": [
    "# apply gaussian lowpass and highpass filtering to the test image\n",
    "\n",
    "filtered_gaussian_lowpass = image_fft_shifted * Hlpg\n",
    "filtered_gaussian_highpass = image_fft_shifted * Hhpg\n",
    "\n",
    "# display the magnitude of the resulting FTs\n",
    "\n",
    "\n",
    "plt.figure(figsize=(12, 6))\n",
    "\n",
    "plt.subplot(1, 2, 1)\n",
    "plt.imshow(np.log(np.abs(filtered_gaussian_lowpass) + 1), cmap='gray')\n",
    "plt.title('Magnitude of Gaussian Lowpass Filtered FT')\n",
    "plt.axis('off')\n",
    "\n",
    "plt.subplot(1, 2, 2)\n",
    "plt.imshow(np.log(np.abs(filtered_gaussian_highpass) + 1), cmap='gray')\n",
    "plt.title('Magnitude of Gaussian Highpass Filtered FT')\n",
    "plt.axis('off')\n",
    "\n",
    "plt.show()"
   ]
  },
  {
   "cell_type": "markdown",
   "metadata": {},
   "source": [
    "**1.8. Finally, reconstruct the filtered images like in step 4.5. and display the original image and the two Gaussian filtered images in the same figure.**"
   ]
  },
  {
   "cell_type": "code",
   "execution_count": null,
   "metadata": {},
   "outputs": [],
   "source": [
    "# reconstruct the filtered images \n",
    "\n",
    "filtered_gaussian_lowpass_shifted_back = fftpack.ifftshift(filtered_gaussian_lowpass)\n",
    "filtered_gaussian_highpass_shifted_back = fftpack.ifftshift(filtered_gaussian_highpass)\n",
    "\n",
    "filtered_gaussian_lowpass_image = np.real(fftpack.ifft2(filtered_gaussian_lowpass_shifted_back))\n",
    "filtered_gaussian_highpass_image = np.real(fftpack.ifft2(filtered_gaussian_highpass_shifted_back))\n",
    "\n",
    "filtered_gaussian_lowpass_image = np.clip(filtered_gaussian_lowpass_image, 0, 255).astype(np.uint8)\n",
    "filtered_gaussian_highpass_image = np.clip(filtered_gaussian_highpass_image, 0, 255).astype(np.uint8)\n",
    "\n",
    "# display the three images in the same figure\n",
    "\n",
    "plt.figure(figsize=(12, 6))\n",
    "\n",
    "plt.subplot(1, 3, 1)\n",
    "plt.imshow(image, cmap='gray')\n",
    "plt.title('Original Image')\n",
    "plt.axis('off')\n",
    "\n",
    "plt.subplot(1, 3, 2)\n",
    "plt.imshow(filtered_gaussian_lowpass_image, cmap='gray')\n",
    "plt.title('Gaussian Lowpass Filtered Image')\n",
    "plt.axis('off')\n",
    "\n",
    "plt.subplot(1, 3, 3)\n",
    "plt.imshow(filtered_gaussian_highpass_image, cmap='gray')\n",
    "plt.title('Gaussian Highpass Filtered Image')\n",
    "plt.axis('off')\n",
    "\n",
    "plt.show()"
   ]
  },
  {
   "cell_type": "markdown",
   "metadata": {
    "collapsed": true
   },
   "source": [
    "**Do the unwanted artefacts appear in the Gaussian lowpass filtered image, why or why not?**\n",
    "\n",
    "`No, the ringing effect does not appear in the Gaussian lowpass filtered image because the Gaussian filter has a smooth transition in the frequency domain, avoiding sharp edges that cause the Gibbs phenomenon.`"
   ]
  },
  {
   "cell_type": "markdown",
   "metadata": {
    "collapsed": true
   },
   "source": [
    "**What kind of effect does Gaussian (and ideal) lowpass filtering have on images in general? Why? What about highpass filtering? Why?**\n",
    "\n",
    "`Effect of Lowpass and Highpass Filtering`\n",
    "\n",
    "`Lowpass filtering : Smooths the image by attenuating high-frequency components, reducing noise and fine details. This results in a blurred image.`\n",
    "\n",
    "`Highpass filtering : Enhances edges and fine details by attenuating low-frequency components, making the image sharper.`"
   ]
  },
  {
   "cell_type": "markdown",
   "metadata": {},
   "source": [
    "# Aftermath\n",
    "Finally, fill your answers to the following questions:"
   ]
  },
  {
   "cell_type": "markdown",
   "metadata": {},
   "source": [
    "**How much time did you need to complete this exercise?**\n",
    "\n",
    "`We spend more than 5+ hours.`"
   ]
  },
  {
   "cell_type": "markdown",
   "metadata": {},
   "source": [
    "**Did you experience any problems with the exercise? Was there enough help available? Should this notebook be more (or less) detailed?**\n",
    "\n",
    "`None significant, the instructions were clear`"
   ]
  },
  {
   "cell_type": "markdown",
   "metadata": {},
   "source": [
    "# References\n",
    "`Lecture notes: Chapter 4 of Book Digitsl Image Processing`\n",
    "\n",
    "`Python documentation for numpy, scipy.fftpack, and matplotlib`"
   ]
  },
  {
   "cell_type": "markdown",
   "metadata": {
    "collapsed": true
   },
   "source": [
    "# Submission\n",
    "\n",
    "1. Before submitting your work, **check that your notebook (code) runs from scratch** and reproduces all the requested results by clicking on the menu `Kernel -> Restart & Run All`! Also, check that you have answered all the questions written in **bold**.\n",
    "2. Clear all outputs and variables, etc. by click on the menu `Kernel -> Restart & Clear Output`. This may (or will) reduce the file size of your deliverable a lot! \n",
    "3. Rename this Jupyter notebook to **`DIP_PA3_[student number(s)].ipynb`** (e.g. `DIP_PA3_1234567.ipynb` if solo work or `DIP_PA3_1234567-7654321.ipynb` if pair work) and upload it as your submission to Moodle."
   ]
  }
 ],
 "metadata": {
  "kernelspec": {
   "display_name": "venv",
   "language": "python",
   "name": "python3"
  },
  "language_info": {
   "codemirror_mode": {
    "name": "ipython",
    "version": 3
   },
   "file_extension": ".py",
   "mimetype": "text/x-python",
   "name": "python",
   "nbconvert_exporter": "python",
   "pygments_lexer": "ipython3",
   "version": "3.13.2"
  }
 },
 "nbformat": 4,
 "nbformat_minor": 2
}
