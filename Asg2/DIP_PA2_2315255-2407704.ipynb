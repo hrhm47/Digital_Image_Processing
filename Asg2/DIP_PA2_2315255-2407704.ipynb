{
 "cells": [
  {
   "cell_type": "code",
   "execution_count": null,
   "metadata": {},
   "outputs": [],
   "source": [
    "from __future__ import print_function, division   # Python 2/3 compatibility\n",
    "from skimage import io, img_as_ubyte              # utilities to read and write images in various formats\n",
    "import numpy as np                                # array manipulation package\n",
    "import matplotlib.pylab as plt                    # plotting package\n",
    "%matplotlib inline\n",
    "plt.rcParams['figure.figsize'] = (16, 16)         # set default figure size\n",
    "plt.rcParams['image.cmap'] = 'gray'               # set default colormap to gray"
   ]
  },
  {
   "cell_type": "code",
   "execution_count": null,
   "metadata": {},
   "outputs": [],
   "source": [
    "pip install opencv-python"
   ]
  },
  {
   "cell_type": "markdown",
   "metadata": {},
   "source": [
    "# Assignment 2 : Intensity Transformations and Spatial Filtering\n",
    "\n",
    "The following programming assignment involves two tasks, viz.: basic histogram processing and spatial domain image filtering tasks, i.e., image sharpening.\n",
    "\n",
    "**Please, follow carefully the submission instructions given in the end of this notebook.** You are encouraged to seek information in other places than the course book and lecture material but remember **list all your sources under references**.\n",
    "\n",
    "If you experience problems that you cannot solve using the course material or the Python documentation, or have any questions regarding the programming assignments, please do not hesitate to contact the course assistant by sending an e-mail at dip@unioulu.oulu.fi. You can also join in for the Q & A session (schedule is given on the course page in Moodle) for this assignment."
   ]
  },
  {
   "cell_type": "markdown",
   "metadata": {},
   "source": [
    "**At first, fill in your personal details below.**\n",
    "\n",
    "# Personal details:\n",
    "\n",
    "* **Name(s) and student ID(s):**\n",
    "* Haseeb Ur Rehman (2315255) and Marwa Bibi (2407704)\n",
    "* **Contact information:**\n",
    "* Haseeb.Rehman@student.oulu.fi and Marwa.Bibi@student.oulu.fi"
   ]
  },
  {
   "cell_type": "markdown",
   "metadata": {},
   "source": [
    "# 1. Histogram operations\n",
    "\n",
    "In the following, you will have to analyze two images, `coffee.jpg` and `pout.tif`, and their histograms, and to compare the results of two histogram operations, namely histogram equalization and stretching. Now, perform the following operations in the reserved code cells and answer to the questions written in **bold** into the reserved spaces in **Finnish or English**."
   ]
  },
  {
   "cell_type": "markdown",
   "metadata": {},
   "source": [
    "**1.1. Read and display the images `coffee.jpg` and `pout.tif` and their histograms in the same figure.**\n",
    "\n",
    "Hint: You can plot the histogram of an image with matplotlib's __[`hist()`](https://matplotlib.org/devdocs/api/_as_gen/matplotlib.pyplot.hist.html)__ function but please note that you have to ravel the pixels of the 2D image into 1D array first."
   ]
  },
  {
   "cell_type": "code",
   "execution_count": null,
   "metadata": {},
   "outputs": [],
   "source": [
    "# read the two images\n",
    "coffee = (io.imread('coffee.jpg', as_gray=True) )  \n",
    "coffee = img_as_ubyte(coffee) \n",
    "pout = io.imread('pout.tif')\n",
    "\n",
    "# display the two images and their histograms in the same figure\n",
    "fig, axes = plt.subplots(2, 2, figsize=(12, 8))\n",
    "\n",
    "# Coffee image and histogram\n",
    "axes[0, 0].imshow(coffee, cmap='gray')\n",
    "axes[0, 0].set_title('Coffee Image')\n",
    "axes[0, 0].axis('off')\n",
    "axes[0, 1].hist(coffee.ravel(), bins=256, range=(0, 255), color='black')\n",
    "axes[0, 1].set_title('Coffee Histogram')\n",
    "\n",
    "\n",
    "# Pout image and histogram\n",
    "axes[1, 0].imshow(pout, cmap='gray')\n",
    "axes[1, 0].set_title('Pout Image')\n",
    "axes[1, 0].axis('off')\n",
    "axes[1, 1].hist(pout.ravel(), bins=256, range=(0, 255), color='black')\n",
    "axes[1, 1].set_title('Pout Histogram')\n",
    "\n",
    "plt.tight_layout()\n",
    "plt.show()\n"
   ]
  },
  {
   "cell_type": "markdown",
   "metadata": {},
   "source": [
    "**Compare the two images and their histograms. What can you say about the contrast of the images?**\n",
    "\n",
    "`According to Wikipedia, the contrast is the differnce in the color that makes the object to be different from other objects within the same field of view. In the coffee image, the contrast is low because values are concentarated in a anrrow range which results in minimum details. While, in the pout image, the contrast is higher because the pixel intensity values are distributed in a wider range so there is visible difference in the bright and dark areas.   `"
   ]
  },
  {
   "cell_type": "markdown",
   "metadata": {},
   "source": [
    "### Histogram equalization\n",
    "\n",
    "**1.2. Perform histogram equalization with the function __[`exposure.equalize_hist()`](http://scikit-image.org/docs/dev/api/skimage.exposure.html#skimage.exposure.equalize_hist)__ and display the resulting images and their histograms in the same figure.**\n",
    "\n",
    "Hint: Please note that `exposure.equalize_hist()` function returns `float64` image. You need to __[convert the image back to `uint8`](http://scikit-image.org/docs/dev/user_guide/data_types.html)__ after histogram equalization so that the intensity value range of the resulting and original histograms are comparable."
   ]
  },
  {
   "cell_type": "code",
   "execution_count": null,
   "metadata": {},
   "outputs": [],
   "source": [
    "from skimage import exposure\n",
    "from skimage import img_as_ubyte\n",
    "\n",
    "# perform histogram equalization and convert data type from 'float64' back to 'uint8' after histogram equalization\n",
    "# Perform histogram equalization\n",
    "coffee_equalized = exposure.equalize_hist(coffee)\n",
    "pout_equalized = exposure.equalize_hist(pout)\n",
    "# Convert the equalized images back to uint8\n",
    "coffee_equalized = img_as_ubyte(coffee_equalized)\n",
    "pout_equalized = img_as_ubyte(pout_equalized)\n",
    "# display resulting images and their histograms in the same figure\n",
    "fig, axes = plt.subplots(2, 2, figsize=(12, 8))\n",
    "\n",
    "# Coffee equalized image and histogram\n",
    "axes[0, 0].imshow(coffee_equalized, cmap='gray')\n",
    "axes[0, 0].set_title('Coffee Equalized Image')\n",
    "axes[0, 0].axis('off')\n",
    "axes[0, 1].hist(coffee_equalized.ravel(), bins=256, range=(0, 255), color='black')\n",
    "axes[0, 1].set_title('Coffee Equalized Histogram')\n",
    "\n",
    "# Pout equalized image and histogram\n",
    "axes[1, 0].imshow(pout_equalized, cmap='gray')\n",
    "axes[1, 0].set_title('Pout Equalized Image')\n",
    "axes[1, 0].axis('off')\n",
    "axes[1, 1].hist(pout_equalized.ravel(), bins=256, range=(0, 255), color='black')\n",
    "axes[1, 1].set_title('Pout Equalized Histogram')\n",
    "\n",
    "plt.tight_layout()\n",
    "plt.show()\n"
   ]
  },
  {
   "cell_type": "markdown",
   "metadata": {},
   "source": [
    "**Again, compare the two images. Did histogram equalization help in increasing image contrast? Why or why not?**\n",
    "\n",
    "`Histogram equalization represents a strong technique for enhancing image contrast which spreads pixel intensities across the entire [0, 255] dynamic range. Application of this technique produced outstanding results when implemented to the coffee image because its narrow ranged caused poor contrast before equalization. The image grew brighter together with increased detail content because the histogram expanded its coverage to span the whole available intensity spectrum. The pout image maintained its existing high contrast values before equalization while its intensity spread inadequately filled the complete range. Equalization provided additional contrast improvement to the darker parts yet its results were minute than the coffee image. But histogram equalization increased the contrast in both images`"
   ]
  },
  {
   "cell_type": "markdown",
   "metadata": {},
   "source": [
    "### Contrast stretching\n",
    "\n",
    "Another way of improving the contrast in an image is to simply stretch the original pixel values over an extended dynamic range using a linear scaling function. For instance, in case of an `uint8` image, the desired value range of a contrast-stretched image could be the full range from 0 to 255. \n",
    "\n",
    "Intuitively, one could perform contrast-stretching by selecting the minimum and maximum values of the original image and map these values to 0 and 255, respectively, and linearly scale all other pixel values in between accordingly. However, even a single outlier pixel value (high or low) can affect the input scaling range too much when outcome of the histogram stretching is not particularly good.\n",
    "\n",
    "A more robust approach is to map the intensity values so that e.g. 1st and 99th percentiles of the histogram are saturated at the minimum and maximum values of the desired intensity range. In other words, 1% of the pixels of both low and high intensities will be mapped to 0 and 255 in the contrast-stretched image while rest are scaled linearly in between."
   ]
  },
  {
   "cell_type": "markdown",
   "metadata": {},
   "source": [
    "**1.3. Now, perform contrast stretching on the original images with the help of functions __[`np.percentile()`](https://numpy.org/doc/stable/reference/generated/numpy.percentile.html)__ and __[`exposure.rescale_intensity()`](http://scikit-image.org/docs/dev/api/skimage.exposure.html#skimage.exposure.rescale_intensity)__ so that the full range from 0 and 255 is utilized based on the 1st and 99th percentiles of their histograms. Then, display the resulting images and their histograms in the same figure.**"
   ]
  },
  {
   "cell_type": "code",
   "execution_count": null,
   "metadata": {},
   "outputs": [],
   "source": [
    "\n",
    "# find the 1st and 99th percentiles of each image\n",
    "coffee_p1, coffee_p99 = np.percentile(coffee, (1, 99))\n",
    "pout_p1, pout_p99 = np.percentile(pout, (1, 99))\n",
    "\n",
    "# rescale the intensities of both images to full 'uint8' range [0, 255] based on their 1st and 99th percentiles\n",
    "coffee_stretched = exposure.rescale_intensity(coffee, in_range=(coffee_p1, coffee_p99))\n",
    "pout_stretched = exposure.rescale_intensity(pout, in_range=(pout_p1, pout_p99))\n",
    "# Convert the stretched images back to uint8\n",
    "coffee_stretched = img_as_ubyte(coffee_stretched)\n",
    "pout_stretched = img_as_ubyte(pout_stretched)\n",
    "\n",
    "# display resulting images and their histograms\n",
    "fig, axes = plt.subplots(2, 2, figsize=(12, 8))\n",
    "\n",
    "# Coffee stretched image and histogram\n",
    "axes[0, 0].imshow(coffee_stretched, cmap='gray')\n",
    "axes[0, 0].set_title('Coffee Stretched Image')\n",
    "axes[0, 0].axis('off')\n",
    "axes[0, 1].hist(coffee_stretched.ravel(), bins=256, range=(0, 255), color='black')\n",
    "axes[0, 1].set_title('Coffee Stretched Histogram')\n",
    "\n",
    "# Pout stretched image and histogram\n",
    "axes[1, 0].imshow(pout_stretched, cmap='gray')\n",
    "axes[1, 0].set_title('Pout Stretched Image')\n",
    "axes[1, 0].axis('off')\n",
    "axes[1, 1].hist(pout_stretched.ravel(), bins=256, range=(0, 255), color='black')\n",
    "axes[1, 1].set_title('Pout Stretched Histogram')\n",
    "\n",
    "plt.tight_layout()\n",
    "plt.show()\n"
   ]
  },
  {
   "cell_type": "markdown",
   "metadata": {},
   "source": [
    "### Comparison\n",
    "\n",
    "**1.4. Finally, display the original `coffee.jpg` image, and its histogram-equalized and contrast-stretched versions and the corresponding histograms into one figure (in total six images in one figure). Do the same for `pout.tif` as well.**"
   ]
  },
  {
   "cell_type": "code",
   "execution_count": null,
   "metadata": {},
   "outputs": [],
   "source": [
    "# 6 subplots for 'coffee.jpg'\n",
    "# Display coffee.jpg and its processed versions\n",
    "fig, axes = plt.subplots(3, 2, figsize=(10, 12))\n",
    "\n",
    "# Original Coffee Image and Histogram\n",
    "axes[0, 0].imshow(coffee, cmap='gray')\n",
    "axes[0, 0].set_title('Original Coffee Image')\n",
    "axes[0, 0].axis('off')\n",
    "axes[0, 1].hist(coffee.ravel(), bins=256, range=(0, 255), color='black')\n",
    "axes[0, 1].set_title('Original Coffee Histogram')\n",
    "\n",
    "# Histogram Equalized Coffee Image and Histogram\n",
    "axes[1, 0].imshow(coffee_equalized, cmap='gray') \n",
    "axes[1, 0].set_title('Equalized Coffee Image')\n",
    "axes[1, 0].axis('off')\n",
    "axes[1, 1].hist(coffee_equalized.ravel(), bins=256, range=(0, 255), color='black')\n",
    "axes[1, 1].set_title('Equalized Coffee Histogram')\n",
    "\n",
    "# Contrast Stretched Coffee Image and Histogram\n",
    "axes[2, 0].imshow(coffee_stretched, cmap='gray')\n",
    "axes[2, 0].set_title('Stretched Coffee Image')\n",
    "axes[2, 0].axis('off')\n",
    "axes[2, 1].hist(coffee_stretched.ravel(), bins=256, range=(0, 255), color='black')\n",
    "axes[2, 1].set_title('Stretched Coffee Histogram')\n",
    "\n",
    "plt.tight_layout()\n",
    "plt.show()\n",
    "\n",
    "\n",
    "# 6 subplots for 'pout.tif'\n",
    "# Display pout.tif and its processed versions\n",
    "fig, axes = plt.subplots(3, 2, figsize=(10, 12))\n",
    "\n",
    "# Original Pout Image and Histogram\n",
    "axes[0, 0].imshow(pout, cmap='gray')\n",
    "axes[0, 0].set_title('Original Pout Image')\n",
    "axes[0, 0].axis('off')\n",
    "axes[0, 1].hist(pout.ravel(), bins=256, range=(0, 255), color='black')\n",
    "axes[0, 1].set_title('Original Pout Histogram')\n",
    "\n",
    "# Histogram Equalized Pout Image and Histogram\n",
    "axes[1, 0].imshow(pout_equalized, cmap='gray')\n",
    "axes[1, 0].set_title('Equalized Pout Image')\n",
    "axes[1, 0].axis('off')\n",
    "axes[1, 1].hist(pout_equalized.ravel(), bins=256, range=(0, 255), color='black')\n",
    "axes[1, 1].set_title('Equalized Pout Histogram')\n",
    "\n",
    "# Contrast Stretched Pout Image and Histogram\n",
    "axes[2, 0].imshow(pout_stretched, cmap='gray')\n",
    "axes[2, 0].set_title('Stretched Pout Image')\n",
    "axes[2, 0].axis('off')\n",
    "axes[2, 1].hist(pout_stretched.ravel(), bins=256, range=(0, 255), color='black')\n",
    "axes[2, 1].set_title('Stretched Pout Histogram')\n",
    "\n",
    "plt.tight_layout()\n",
    "plt.show()"
   ]
  },
  {
   "cell_type": "markdown",
   "metadata": {},
   "source": [
    "**Which method gives better result for each of the two images in** ***your*** **opinion? Why??**\n",
    "\n",
    "`The coffee image gave better reulsts in histogram equalization since it enhances contrast levels through uniform pixel distribution which reveals hidden details in low-contrast images. While, for the pout image, contrast stretching is good since it optimizes contrast without distorting either natural appearance or original histogram shapes unlike the over-enhancement of histogram equalization. The selected method for image enhancement depends on the initial contrast because histogram equalization works best on images with low contrast and contrast stretching works optimally on images with moderate to high initial contrast strength.`"
   ]
  },
  {
   "cell_type": "markdown",
   "metadata": {
    "collapsed": true
   },
   "source": [
    "# 2. Image sharpening\n",
    "\n",
    "First, read the part concerning sharpening spatial transforms in the lecture notes or in the course book.\n",
    "\n",
    "In this exercise, your task is to perform a sharpening transform to the image `moonunsharp.tif` in spatial domain enhancing the details, like edges, in the original grayscale image. The use of built-in functions that perform image sharpening from scratch, like `scipy.misc.imfilter()`, is forbidden but functions like __[`scipy.signal.convolve2d()`](https://docs.scipy.org/doc/scipy/reference/generated/scipy.signal.convolve2d.html)__ can be used for the task. You can select some method presented in the lecture notes or the course book, e.g. use Laplacian operator and convolution, for sharpening the test image. \n",
    "\n",
    "Please note that it does not matter what method you use or how “good” the sharpening looks as long as the sharpening can be observed in the end result. An example result achieved with __[`ImageFilter`](https://pillow.readthedocs.io/en/stable/reference/ImageFilter.html)__ is shown below:"
   ]
  },
  {
   "cell_type": "code",
   "execution_count": null,
   "metadata": {},
   "outputs": [],
   "source": [
    "# image sharpening example using 'ImageFilter' module from PILLOW with 'image.filter()' function\n",
    "from PIL import ImageFilter, Image\n",
    "\n",
    "moon = Image.open('moonunsharp.tif')\n",
    "moon_sharp_example = moon.filter(ImageFilter.SHARPEN)\n",
    "\n",
    "fig, ax = plt.subplots(1, 2)\n",
    "ax[0].imshow(moon, vmin=0, vmax=255, cmap=plt.get_cmap('gray'))\n",
    "ax[0].set_title('original')\n",
    "ax[0].axis('off')\n",
    "ax[1].imshow(moon_sharp_example, vmin=0, vmax=255, cmap=plt.get_cmap('gray'))\n",
    "ax[1].set_title('sharpened')\n",
    "ax[1].axis('off')\n",
    "fig.tight_layout()"
   ]
  },
  {
   "cell_type": "markdown",
   "metadata": {},
   "source": [
    "**2.1. Now, implement your own image sharpening transform and apply it on the test image.**\n",
    "\n",
    "Hint: Like in the previous task, please note the __[image data type (`dtype`) and corresponding value range](http://scikit-image.org/docs/dev/user_guide/data_types.html)__ after filtering/sharpening as unexpected errors with arithmetic may occur (see pre-tutorials) !"
   ]
  },
  {
   "cell_type": "code",
   "execution_count": null,
   "metadata": {},
   "outputs": [],
   "source": [
    "# Perform image sharpening using e.g. a Laplacian mask and convolution\n",
    "# Perform image sharpening using e.g. a Laplacian mask and convolution\n",
    "import numpy as np\n",
    "import cv2\n",
    "import matplotlib.pyplot as plt\n",
    "from scipy.signal import convolve2d\n",
    "\n",
    "# Load the image in grayscale\n",
    "image = cv2.imread('moonunsharp.tif', cv2.IMREAD_GRAYSCALE)\n",
    "\n",
    "# Define the Laplacian kernel\n",
    "laplacian_kernel = np.array([[0,  1,  0],\n",
    "                             [1, -4,  1],\n",
    "                             [0,  1,  0]])\n",
    "\n",
    "# Perform convolution using the Laplacian kernel\n",
    "laplacian_filtered = convolve2d(image, laplacian_kernel, mode='same', boundary='symm')\n",
    "\n",
    "# Apply Laplacian mask to enhance edges\n",
    "laplacian_mask = cv2.filter2D(image, ddepth=-1, kernel=laplacian_kernel)\n",
    "\n",
    "# Sharpen the image by subtracting the Laplacian result from the original image\n",
    "sharpened_image = image - laplacian_filtered\n",
    "\n",
    "# Clip values to be in valid range (0-255)\n",
    "sharpened_image = np.clip(sharpened_image, 0, 255).astype(np.uint8)"
   ]
  },
  {
   "cell_type": "markdown",
   "metadata": {},
   "source": [
    "**2.2. Display the original and sharpened moon images in the same figure.**"
   ]
  },
  {
   "cell_type": "code",
   "execution_count": null,
   "metadata": {},
   "outputs": [],
   "source": [
    "# Display the results\n",
    "plt.figure(figsize=(15, 5))\n",
    "plt.subplot(1, 3, 1)\n",
    "plt.title(\"Original Image\")\n",
    "plt.imshow(image, cmap='gray')\n",
    "plt.axis('off')\n",
    "\n",
    "plt.subplot(1, 3, 2)\n",
    "plt.title(\"Laplacian Mask\")\n",
    "plt.imshow(laplacian_mask, cmap='gray')\n",
    "plt.axis('off')\n",
    "\n",
    "plt.subplot(1, 3, 3)\n",
    "plt.title(\"Sharpened Image\")\n",
    "plt.imshow(sharpened_image, cmap='gray')\n",
    "plt.axis('off')\n",
    "\n",
    "plt.show()"
   ]
  },
  {
   "cell_type": "markdown",
   "metadata": {},
   "source": [
    "# Aftermath\n",
    "Finally, fill your answers to the following questions:"
   ]
  },
  {
   "cell_type": "markdown",
   "metadata": {},
   "source": [
    "**How much time did you need to complete this exercise?**\n",
    "\n",
    "`Around continuous 5-6 hours in understanding and implementation `"
   ]
  },
  {
   "cell_type": "markdown",
   "metadata": {},
   "source": [
    "**Did you experience any problems with the exercise? Was there enough help available? Should this notebook be more (or less) detailed?**\n",
    "\n",
    "`The exercise was helpful along with som external useful links and off course with the lecture topics`"
   ]
  },
  {
   "cell_type": "markdown",
   "metadata": {},
   "source": [
    "# References\n",
    "\n",
    "`https://www.geeksforgeeks.org/opencv-python-program-analyze-image-using-histogram/ https://theailearner.com/2019/01/30/what-is-contrast-in-image-processing/ https://scikit-image.org/docs/dev/api/skimage.exposure.html#skimage.exposure.equalize_hist https://www.geeksforgeeks.org/histogram-equalization-in-digital-image-processing/ https://samirkhanal35.medium.com/contrast-stretching-f25e7c4e8e33 https://www.youtube.com/watch?v=5l0y-LMM1c0`"
   ]
  },
  {
   "cell_type": "markdown",
   "metadata": {
    "collapsed": true
   },
   "source": [
    "# Submission\n",
    "\n",
    "1. Before submitting your work, **check that your notebook (code) runs from scratch** and reproduces all the requested results by clicking on the menu `Kernel -> Restart & Run All`! Also, check that you have answered all the questions written in **bold**.\n",
    "2. Clear all outputs and variables, etc. by click on the menu `Kernel -> Restart & Clear Output`. This may (or will) reduce the file size of your deliverable a lot! \n",
    "3. Rename this Jupyter notebook to **`DIP_PA2_[student number(s)].ipynb`** (e.g. `DIP_PA2_1234567.ipynb` if solo work or `DIP_PA2_1234567-7654321.ipynb` if working in a pair)"
   ]
  },
  {
   "cell_type": "code",
   "execution_count": null,
   "metadata": {},
   "outputs": [],
   "source": []
  }
 ],
 "metadata": {
  "kernelspec": {
   "display_name": "venv",
   "language": "python",
   "name": "python3"
  },
  "language_info": {
   "codemirror_mode": {
    "name": "ipython",
    "version": 3
   },
   "file_extension": ".py",
   "mimetype": "text/x-python",
   "name": "python",
   "nbconvert_exporter": "python",
   "pygments_lexer": "ipython3",
   "version": "3.13.1"
  }
 },
 "nbformat": 4,
 "nbformat_minor": 2
}
